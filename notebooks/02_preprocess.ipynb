{
 "cells": [
  {
   "cell_type": "markdown",
   "id": "general-revolution",
   "metadata": {},
   "source": [
    "# 前処理を実施"
   ]
  },
  {
   "cell_type": "code",
   "execution_count": 30,
   "id": "diverse-standing",
   "metadata": {},
   "outputs": [],
   "source": [
    "import cv2\n",
    "import matplotlib.pyplot as plt\n",
    "import glob\n",
    "from filer3 import Filer\n",
    "\n",
    "%matplotlib inline"
   ]
  },
  {
   "cell_type": "code",
   "execution_count": 14,
   "id": "personalized-check",
   "metadata": {},
   "outputs": [],
   "source": [
    "paths = glob.glob(\"../data/raw/picture/*.jpg\")"
   ]
  },
  {
   "cell_type": "code",
   "execution_count": 32,
   "id": "exact-article",
   "metadata": {},
   "outputs": [],
   "source": [
    "shapes = []\n",
    "arrays = []\n",
    "for path in paths:\n",
    "    try:\n",
    "        gray = cv2.imread(path, 0)\n",
    "        shapes.append(gray.shape)\n",
    "        # 0-1スケーリング\n",
    "        max_ = gray.max()\n",
    "        min_ = gray.min()\n",
    "        gray = ((gray.astype(\"float32\") - min_) / (max_ - min_)).flatten()\n",
    "        arrays.append(gray)\n",
    "    except:\n",
    "        pass"
   ]
  },
  {
   "cell_type": "code",
   "execution_count": 29,
   "id": "aware-baseball",
   "metadata": {},
   "outputs": [
    {
     "data": {
      "text/plain": [
       "{(75, 75)}"
      ]
     },
     "execution_count": 29,
     "metadata": {},
     "output_type": "execute_result"
    }
   ],
   "source": [
    "# サイズは全て75×75\n",
    "set(shapes)"
   ]
  },
  {
   "cell_type": "code",
   "execution_count": 35,
   "id": "distinguished-century",
   "metadata": {},
   "outputs": [],
   "source": [
    "Filer.write_pkl(arrays, \"../data/processed/processed_data.pkl\")"
   ]
  },
  {
   "cell_type": "code",
   "execution_count": null,
   "id": "athletic-yellow",
   "metadata": {},
   "outputs": [],
   "source": []
  }
 ],
 "metadata": {
  "kernelspec": {
   "display_name": "Python 3",
   "language": "python",
   "name": "python3"
  },
  "language_info": {
   "codemirror_mode": {
    "name": "ipython",
    "version": 3
   },
   "file_extension": ".py",
   "mimetype": "text/x-python",
   "name": "python",
   "nbconvert_exporter": "python",
   "pygments_lexer": "ipython3",
   "version": "3.7.9"
  },
  "toc": {
   "base_numbering": 1,
   "nav_menu": {},
   "number_sections": true,
   "sideBar": true,
   "skip_h1_title": false,
   "title_cell": "Table of Contents",
   "title_sidebar": "Contents",
   "toc_cell": false,
   "toc_position": {},
   "toc_section_display": true,
   "toc_window_display": false
  }
 },
 "nbformat": 4,
 "nbformat_minor": 5
}
