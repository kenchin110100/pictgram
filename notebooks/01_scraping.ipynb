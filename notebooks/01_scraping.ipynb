{
 "cells": [
  {
   "cell_type": "markdown",
   "id": "boolean-stopping",
   "metadata": {},
   "source": [
    "# ピクトグラムをスクレイピング\n",
    "\n",
    "- http://pictogram2.com/\n",
    "- https://qiita.com/neet-AI/items/98d4194872ee4f53e3b4"
   ]
  },
  {
   "cell_type": "code",
   "execution_count": 21,
   "id": "regulated-arrow",
   "metadata": {},
   "outputs": [],
   "source": [
    "import requests\n",
    "from bs4 import BeautifulSoup\n",
    "import re\n",
    "import pandas as pd\n",
    "import time\n",
    "import re"
   ]
  },
  {
   "cell_type": "code",
   "execution_count": 18,
   "id": "different-stylus",
   "metadata": {},
   "outputs": [],
   "source": [
    "# もとURLのスクレイピング\n",
    "BASE_URL = \"http://pictogram2.com/?paged={}\"\n",
    "\n",
    "results = []\n",
    "for num_page in range(1, 41):\n",
    "    url = BASE_URL.format(num_page)\n",
    "    res = requests.get(url)\n",
    "    soup = BeautifulSoup(res.text, 'html.parser')\n",
    "    page_urls = [item.get(\"href\") for item in soup.find_all(\"a\", attrs={\"href\": re.compile(\"http://pictogram2.com/\\?p=\\d+\")})]\n",
    "    results.extend(page_urls)\n",
    "    time.sleep(1)"
   ]
  },
  {
   "cell_type": "code",
   "execution_count": 23,
   "id": "recognized-square",
   "metadata": {
    "scrolled": true
   },
   "outputs": [],
   "source": [
    "# 保存\n",
    "pd.DataFrame([[url] for url in results], columns=[\"url\"]).to_csv(\"../data/pict_urls.csv\", index=False)"
   ]
  },
  {
   "cell_type": "code",
   "execution_count": 37,
   "id": "exceptional-reception",
   "metadata": {},
   "outputs": [],
   "source": [
    "# 画像をダウンロード\n",
    "\n",
    "for url in results:\n",
    "    res = requests.get(url)\n",
    "    soup = BeautifulSoup(res.text, 'html.parser')\n",
    "    imgs = soup.find_all('img',src=re.compile('/p/p.+jpg'))\n",
    "    for img in imgs:\n",
    "        r = requests.get(\"http://pictogram2.com/\"+img['src'])\n",
    "        with open(str('../picture/')+img['src'].replace(\"/\", \"_\"),'wb') as file:\n",
    "            file.write(r.content)\n",
    "        time.sleep(0.5)"
   ]
  },
  {
   "cell_type": "code",
   "execution_count": null,
   "id": "ultimate-cleanup",
   "metadata": {},
   "outputs": [],
   "source": []
  }
 ],
 "metadata": {
  "kernelspec": {
   "display_name": "Python 3",
   "language": "python",
   "name": "python3"
  },
  "language_info": {
   "codemirror_mode": {
    "name": "ipython",
    "version": 3
   },
   "file_extension": ".py",
   "mimetype": "text/x-python",
   "name": "python",
   "nbconvert_exporter": "python",
   "pygments_lexer": "ipython3",
   "version": "3.7.9"
  },
  "toc": {
   "base_numbering": 1,
   "nav_menu": {},
   "number_sections": true,
   "sideBar": true,
   "skip_h1_title": false,
   "title_cell": "Table of Contents",
   "title_sidebar": "Contents",
   "toc_cell": false,
   "toc_position": {},
   "toc_section_display": true,
   "toc_window_display": false
  }
 },
 "nbformat": 4,
 "nbformat_minor": 5
}
